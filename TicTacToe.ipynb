{
 "cells": [
  {
   "cell_type": "code",
   "execution_count": null,
   "id": "18ee9f46-60a6-4988-b97a-345e62a8d40b",
   "metadata": {},
   "outputs": [
    {
     "name": "stdout",
     "output_type": "stream",
     "text": [
      "Welcome to Tic Tac Toe!\n",
      "  |   |  \n",
      "--+---+--\n",
      "  |   |  \n",
      "--+---+--\n",
      "  |   |  \n"
     ]
    }
   ],
   "source": [
    "def print_board(board):\n",
    "    print(f\"{board[0]} | {board[1]} | {board[2]}\")\n",
    "    print(\"--+---+--\")\n",
    "    print(f\"{board[3]} | {board[4]} | {board[5]}\")\n",
    "    print(\"--+---+--\")\n",
    "    print(f\"{board[6]} | {board[7]} | {board[8]}\")\n",
    "\n",
    "def check_win(board, player):\n",
    "    # Check rows, columns, and diagonals for a win\n",
    "    win_conditions = [(0, 1, 2), (3, 4, 5), (6, 7, 8), # rows\n",
    "                      (0, 3, 6), (1, 4, 7), (2, 5, 8), # columns\n",
    "                      (0, 4, 8), (2, 4, 6)]            # diagonals\n",
    "    for condition in win_conditions:\n",
    "        if board[condition[0]] == board[condition[1]] == board[condition[2]] == player:\n",
    "            return True\n",
    "    return False\n",
    "\n",
    "def is_draw(board):\n",
    "    return ' ' not in board\n",
    "\n",
    "def tic_tac_toe():\n",
    "    board = [' '] * 9\n",
    "    current_player = 'X'\n",
    "    game_over = False\n",
    "    \n",
    "    print(\"Welcome to Tic Tac Toe!\")\n",
    "    \n",
    "    while not game_over:\n",
    "        print_board(board)\n",
    "        try:\n",
    "            move = int(input(f\"Player {current_player}, choose a position (1-9): \")) - 1\n",
    "            if board[move] == ' ':\n",
    "                board[move] = current_player\n",
    "                if check_win(board, current_player):\n",
    "                    print_board(board)\n",
    "                    print(f\"Player {current_player} wins!\")\n",
    "                    game_over = True\n",
    "                elif is_draw(board):\n",
    "                    print_board(board)\n",
    "                    print(\"It's a draw!\")\n",
    "                    game_over = True\n",
    "                else:\n",
    "                    current_player = 'O' if current_player == 'X' else 'X'\n",
    "            else:\n",
    "                print(\"Position already taken. Try again.\")\n",
    "        except (ValueError, IndexError):\n",
    "            print(\"Invalid input. Please enter a number between 1 and 9.\")\n",
    "\n",
    "if __name__ == \"__main__\":\n",
    "    tic_tac_toe()\n"
   ]
  }
 ],
 "metadata": {
  "kernelspec": {
   "display_name": "Python 3 (ipykernel)",
   "language": "python",
   "name": "python3"
  },
  "language_info": {
   "codemirror_mode": {
    "name": "ipython",
    "version": 3
   },
   "file_extension": ".py",
   "mimetype": "text/x-python",
   "name": "python",
   "nbconvert_exporter": "python",
   "pygments_lexer": "ipython3",
   "version": "3.11.7"
  }
 },
 "nbformat": 4,
 "nbformat_minor": 5
}
